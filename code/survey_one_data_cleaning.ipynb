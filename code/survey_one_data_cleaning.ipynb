{
 "cells": [
  {
   "cell_type": "code",
   "execution_count": 57,
   "metadata": {},
   "outputs": [],
   "source": [
    "import os\n",
    "import pandas as pd"
   ]
  },
  {
   "cell_type": "code",
   "execution_count": 7,
   "metadata": {},
   "outputs": [],
   "source": [
    "raw_df = pd.read_csv('~/Documents/Data_Science/projects/mi_stigma_pca/data/StigmaRating_S1_V1.csv', index_col = 8)"
   ]
  },
  {
   "cell_type": "code",
   "execution_count": 3,
   "metadata": {},
   "outputs": [
    {
     "data": {
      "text/html": [
       "<div>\n",
       "<style scoped>\n",
       "    .dataframe tbody tr th:only-of-type {\n",
       "        vertical-align: middle;\n",
       "    }\n",
       "\n",
       "    .dataframe tbody tr th {\n",
       "        vertical-align: top;\n",
       "    }\n",
       "\n",
       "    .dataframe thead th {\n",
       "        text-align: right;\n",
       "    }\n",
       "</style>\n",
       "<table border=\"1\" class=\"dataframe\">\n",
       "  <thead>\n",
       "    <tr style=\"text-align: right;\">\n",
       "      <th></th>\n",
       "      <th>Start Date</th>\n",
       "      <th>End Date</th>\n",
       "      <th>Response Type</th>\n",
       "      <th>IP Address</th>\n",
       "      <th>Progress</th>\n",
       "      <th>Duration (in seconds)</th>\n",
       "      <th>Finished</th>\n",
       "      <th>Recorded Date</th>\n",
       "      <th>Recipient Last Name</th>\n",
       "      <th>Recipient First Name</th>\n",
       "      <th>...</th>\n",
       "      <th>In your opinion, how *violent* is this person? - How violent?.1</th>\n",
       "      <th>In your opinion, how *successful* is this person? - How successful?.1</th>\n",
       "      <th>Are you a native English speaker?</th>\n",
       "      <th>What is your age? - years</th>\n",
       "      <th>What is your gender?</th>\n",
       "      <th>What is your ethnicity? - Selected Choice</th>\n",
       "      <th>What is your ethnicity? - Other (please specify): - Text</th>\n",
       "      <th>How politically liberal or conservative are you? - SOCIAL ISSUES</th>\n",
       "      <th>How politically liberal or conservative are you? - ECONOMIC ISSUES</th>\n",
       "      <th>If you have any comments, please enter them here:</th>\n",
       "    </tr>\n",
       "    <tr>\n",
       "      <th>Response ID</th>\n",
       "      <th></th>\n",
       "      <th></th>\n",
       "      <th></th>\n",
       "      <th></th>\n",
       "      <th></th>\n",
       "      <th></th>\n",
       "      <th></th>\n",
       "      <th></th>\n",
       "      <th></th>\n",
       "      <th></th>\n",
       "      <th></th>\n",
       "      <th></th>\n",
       "      <th></th>\n",
       "      <th></th>\n",
       "      <th></th>\n",
       "      <th></th>\n",
       "      <th></th>\n",
       "      <th></th>\n",
       "      <th></th>\n",
       "      <th></th>\n",
       "      <th></th>\n",
       "    </tr>\n",
       "  </thead>\n",
       "  <tbody>\n",
       "    <tr>\n",
       "      <th>R_1eOxNkDfm21dGw4</th>\n",
       "      <td>2/21/19 10:52</td>\n",
       "      <td>2/21/19 10:55</td>\n",
       "      <td>0</td>\n",
       "      <td>75.4.216.39</td>\n",
       "      <td>100</td>\n",
       "      <td>230</td>\n",
       "      <td>1</td>\n",
       "      <td>2/21/19 10:55</td>\n",
       "      <td>NaN</td>\n",
       "      <td>NaN</td>\n",
       "      <td>...</td>\n",
       "      <td>49.0</td>\n",
       "      <td>50.0</td>\n",
       "      <td>1.0</td>\n",
       "      <td>36.0</td>\n",
       "      <td>2.0</td>\n",
       "      <td>5.0</td>\n",
       "      <td>NaN</td>\n",
       "      <td>1.0</td>\n",
       "      <td>1.0</td>\n",
       "      <td>NaN</td>\n",
       "    </tr>\n",
       "    <tr>\n",
       "      <th>R_2YQDwlV0FIZIqFR</th>\n",
       "      <td>2/21/19 10:53</td>\n",
       "      <td>2/21/19 10:57</td>\n",
       "      <td>0</td>\n",
       "      <td>76.0.56.231</td>\n",
       "      <td>100</td>\n",
       "      <td>246</td>\n",
       "      <td>1</td>\n",
       "      <td>2/21/19 10:57</td>\n",
       "      <td>NaN</td>\n",
       "      <td>NaN</td>\n",
       "      <td>...</td>\n",
       "      <td>0.0</td>\n",
       "      <td>71.0</td>\n",
       "      <td>1.0</td>\n",
       "      <td>28.0</td>\n",
       "      <td>1.0</td>\n",
       "      <td>5.0</td>\n",
       "      <td>NaN</td>\n",
       "      <td>1.0</td>\n",
       "      <td>1.0</td>\n",
       "      <td>Thank you!</td>\n",
       "    </tr>\n",
       "    <tr>\n",
       "      <th>R_1llDVW6gc341xWG</th>\n",
       "      <td>2/21/19 10:59</td>\n",
       "      <td>2/21/19 11:02</td>\n",
       "      <td>0</td>\n",
       "      <td>24.4.62.188</td>\n",
       "      <td>100</td>\n",
       "      <td>175</td>\n",
       "      <td>1</td>\n",
       "      <td>2/21/19 11:02</td>\n",
       "      <td>NaN</td>\n",
       "      <td>NaN</td>\n",
       "      <td>...</td>\n",
       "      <td>95.0</td>\n",
       "      <td>22.0</td>\n",
       "      <td>1.0</td>\n",
       "      <td>23.0</td>\n",
       "      <td>2.0</td>\n",
       "      <td>3.0</td>\n",
       "      <td>NaN</td>\n",
       "      <td>2.0</td>\n",
       "      <td>3.0</td>\n",
       "      <td>NaN</td>\n",
       "    </tr>\n",
       "    <tr>\n",
       "      <th>R_tDO2hoMYEmdyTPH</th>\n",
       "      <td>2/21/19 11:10</td>\n",
       "      <td>2/21/19 11:12</td>\n",
       "      <td>0</td>\n",
       "      <td>73.48.80.170</td>\n",
       "      <td>100</td>\n",
       "      <td>155</td>\n",
       "      <td>1</td>\n",
       "      <td>2/21/19 11:12</td>\n",
       "      <td>NaN</td>\n",
       "      <td>NaN</td>\n",
       "      <td>...</td>\n",
       "      <td>56.0</td>\n",
       "      <td>33.0</td>\n",
       "      <td>1.0</td>\n",
       "      <td>36.0</td>\n",
       "      <td>1.0</td>\n",
       "      <td>5.0</td>\n",
       "      <td>NaN</td>\n",
       "      <td>1.0</td>\n",
       "      <td>1.0</td>\n",
       "      <td>NaN</td>\n",
       "    </tr>\n",
       "    <tr>\n",
       "      <th>R_1mkjzSAcuCLnZs7</th>\n",
       "      <td>2/21/19 11:10</td>\n",
       "      <td>2/21/19 11:12</td>\n",
       "      <td>0</td>\n",
       "      <td>71.206.8.9</td>\n",
       "      <td>100</td>\n",
       "      <td>124</td>\n",
       "      <td>1</td>\n",
       "      <td>2/21/19 11:12</td>\n",
       "      <td>NaN</td>\n",
       "      <td>NaN</td>\n",
       "      <td>...</td>\n",
       "      <td>73.0</td>\n",
       "      <td>52.0</td>\n",
       "      <td>1.0</td>\n",
       "      <td>37.0</td>\n",
       "      <td>2.0</td>\n",
       "      <td>2.0</td>\n",
       "      <td>NaN</td>\n",
       "      <td>3.0</td>\n",
       "      <td>3.0</td>\n",
       "      <td>None.</td>\n",
       "    </tr>\n",
       "  </tbody>\n",
       "</table>\n",
       "<p>5 rows × 67 columns</p>\n",
       "</div>"
      ],
      "text/plain": [
       "                      Start Date       End Date  Response Type    IP Address  \\\n",
       "Response ID                                                                    \n",
       "R_1eOxNkDfm21dGw4  2/21/19 10:52  2/21/19 10:55              0   75.4.216.39   \n",
       "R_2YQDwlV0FIZIqFR  2/21/19 10:53  2/21/19 10:57              0   76.0.56.231   \n",
       "R_1llDVW6gc341xWG  2/21/19 10:59  2/21/19 11:02              0   24.4.62.188   \n",
       "R_tDO2hoMYEmdyTPH  2/21/19 11:10  2/21/19 11:12              0  73.48.80.170   \n",
       "R_1mkjzSAcuCLnZs7  2/21/19 11:10  2/21/19 11:12              0    71.206.8.9   \n",
       "\n",
       "                   Progress  Duration (in seconds)  Finished  Recorded Date  \\\n",
       "Response ID                                                                   \n",
       "R_1eOxNkDfm21dGw4       100                    230         1  2/21/19 10:55   \n",
       "R_2YQDwlV0FIZIqFR       100                    246         1  2/21/19 10:57   \n",
       "R_1llDVW6gc341xWG       100                    175         1  2/21/19 11:02   \n",
       "R_tDO2hoMYEmdyTPH       100                    155         1  2/21/19 11:12   \n",
       "R_1mkjzSAcuCLnZs7       100                    124         1  2/21/19 11:12   \n",
       "\n",
       "                   Recipient Last Name  Recipient First Name  ...  \\\n",
       "Response ID                                                   ...   \n",
       "R_1eOxNkDfm21dGw4                  NaN                   NaN  ...   \n",
       "R_2YQDwlV0FIZIqFR                  NaN                   NaN  ...   \n",
       "R_1llDVW6gc341xWG                  NaN                   NaN  ...   \n",
       "R_tDO2hoMYEmdyTPH                  NaN                   NaN  ...   \n",
       "R_1mkjzSAcuCLnZs7                  NaN                   NaN  ...   \n",
       "\n",
       "                   In your opinion, how *violent* is this person? - How violent?.1  \\\n",
       "Response ID                                                                          \n",
       "R_1eOxNkDfm21dGw4                                               49.0                 \n",
       "R_2YQDwlV0FIZIqFR                                                0.0                 \n",
       "R_1llDVW6gc341xWG                                               95.0                 \n",
       "R_tDO2hoMYEmdyTPH                                               56.0                 \n",
       "R_1mkjzSAcuCLnZs7                                               73.0                 \n",
       "\n",
       "                   In your opinion, how *successful* is this person? - How successful?.1  \\\n",
       "Response ID                                                                                \n",
       "R_1eOxNkDfm21dGw4                                               50.0                       \n",
       "R_2YQDwlV0FIZIqFR                                               71.0                       \n",
       "R_1llDVW6gc341xWG                                               22.0                       \n",
       "R_tDO2hoMYEmdyTPH                                               33.0                       \n",
       "R_1mkjzSAcuCLnZs7                                               52.0                       \n",
       "\n",
       "                   Are you a native English speaker?  \\\n",
       "Response ID                                            \n",
       "R_1eOxNkDfm21dGw4                                1.0   \n",
       "R_2YQDwlV0FIZIqFR                                1.0   \n",
       "R_1llDVW6gc341xWG                                1.0   \n",
       "R_tDO2hoMYEmdyTPH                                1.0   \n",
       "R_1mkjzSAcuCLnZs7                                1.0   \n",
       "\n",
       "                   What is your age? - years What is your gender?  \\\n",
       "Response ID                                                         \n",
       "R_1eOxNkDfm21dGw4                       36.0                  2.0   \n",
       "R_2YQDwlV0FIZIqFR                       28.0                  1.0   \n",
       "R_1llDVW6gc341xWG                       23.0                  2.0   \n",
       "R_tDO2hoMYEmdyTPH                       36.0                  1.0   \n",
       "R_1mkjzSAcuCLnZs7                       37.0                  2.0   \n",
       "\n",
       "                  What is your ethnicity? - Selected Choice  \\\n",
       "Response ID                                                   \n",
       "R_1eOxNkDfm21dGw4                                       5.0   \n",
       "R_2YQDwlV0FIZIqFR                                       5.0   \n",
       "R_1llDVW6gc341xWG                                       3.0   \n",
       "R_tDO2hoMYEmdyTPH                                       5.0   \n",
       "R_1mkjzSAcuCLnZs7                                       2.0   \n",
       "\n",
       "                   What is your ethnicity? - Other (please specify): - Text  \\\n",
       "Response ID                                                                   \n",
       "R_1eOxNkDfm21dGw4                                                NaN          \n",
       "R_2YQDwlV0FIZIqFR                                                NaN          \n",
       "R_1llDVW6gc341xWG                                                NaN          \n",
       "R_tDO2hoMYEmdyTPH                                                NaN          \n",
       "R_1mkjzSAcuCLnZs7                                                NaN          \n",
       "\n",
       "                   How politically liberal or conservative are you? - SOCIAL ISSUES  \\\n",
       "Response ID                                                                           \n",
       "R_1eOxNkDfm21dGw4                                                1.0                  \n",
       "R_2YQDwlV0FIZIqFR                                                1.0                  \n",
       "R_1llDVW6gc341xWG                                                2.0                  \n",
       "R_tDO2hoMYEmdyTPH                                                1.0                  \n",
       "R_1mkjzSAcuCLnZs7                                                3.0                  \n",
       "\n",
       "                   How politically liberal or conservative are you? - ECONOMIC ISSUES  \\\n",
       "Response ID                                                                             \n",
       "R_1eOxNkDfm21dGw4                                                1.0                    \n",
       "R_2YQDwlV0FIZIqFR                                                1.0                    \n",
       "R_1llDVW6gc341xWG                                                3.0                    \n",
       "R_tDO2hoMYEmdyTPH                                                1.0                    \n",
       "R_1mkjzSAcuCLnZs7                                                3.0                    \n",
       "\n",
       "                   If you have any comments, please enter them here:  \n",
       "Response ID                                                           \n",
       "R_1eOxNkDfm21dGw4                                                NaN  \n",
       "R_2YQDwlV0FIZIqFR                                         Thank you!  \n",
       "R_1llDVW6gc341xWG                                                NaN  \n",
       "R_tDO2hoMYEmdyTPH                                                NaN  \n",
       "R_1mkjzSAcuCLnZs7                                              None.  \n",
       "\n",
       "[5 rows x 67 columns]"
      ]
     },
     "execution_count": 3,
     "metadata": {},
     "output_type": "execute_result"
    }
   ],
   "source": [
    "raw_df.head()"
   ]
  },
  {
   "cell_type": "code",
   "execution_count": 9,
   "metadata": {},
   "outputs": [
    {
     "name": "stdout",
     "output_type": "stream",
     "text": [
      "<class 'pandas.core.frame.DataFrame'>\n",
      "Index: 363 entries, R_1eOxNkDfm21dGw4 to R_skjidK3McqCgwOB\n",
      "Data columns (total 67 columns):\n",
      " #   Column                                                                       Non-Null Count  Dtype  \n",
      "---  ------                                                                       --------------  -----  \n",
      " 0   Start Date                                                                   363 non-null    object \n",
      " 1   End Date                                                                     363 non-null    object \n",
      " 2   Response Type                                                                363 non-null    int64  \n",
      " 3   IP Address                                                                   363 non-null    object \n",
      " 4   Progress                                                                     363 non-null    int64  \n",
      " 5   Duration (in seconds)                                                        363 non-null    int64  \n",
      " 6   Finished                                                                     363 non-null    int64  \n",
      " 7   Recorded Date                                                                363 non-null    object \n",
      " 8   Recipient Last Name                                                          0 non-null      float64\n",
      " 9   Recipient First Name                                                         0 non-null      float64\n",
      " 10  Recipient Email                                                              0 non-null      float64\n",
      " 11  External Data Reference                                                      0 non-null      float64\n",
      " 12  Location Latitude                                                            362 non-null    float64\n",
      " 13  Location Longitude                                                           362 non-null    float64\n",
      " 14  Distribution Channel                                                         363 non-null    object \n",
      " 15  User Language                                                                363 non-null    object \n",
      " 16  .                                                                            363 non-null    int64  \n",
      " 17  In your opinion, how *unpredictable* is this person? - How unpredictable?    362 non-null    float64\n",
      " 18  In your opinion, how *sincere* is this person? - How sincere?                359 non-null    float64\n",
      " 19  In your opinion, how *dangerous* is this person? - How dangerous?            363 non-null    int64  \n",
      " 20  In your opinion, how *trustworthy* is this person? - How trustworthy?        362 non-null    float64\n",
      " 21  In your opinion, how *friendly* is this person? - How friendly?              362 non-null    float64\n",
      " 22  In your opinion, how *helpless* is this person? - How helpless?              363 non-null    int64  \n",
      " 23  In your opinion, how *moral* is this person? - How moral?                    358 non-null    float64\n",
      " 24  In your opinion, how *understanding* is this person? - How understanding?    363 non-null    int64  \n",
      " 25  In your opinion, how *intelligent* is this person? - How intelligent?        358 non-null    float64\n",
      " 26  In your opinion, how *skilled* is this person? - How skilled?                362 non-null    float64\n",
      " 27  In your opinion, how *confident* is this person? - How confident?            361 non-null    float64\n",
      " 28  In your opinion, how *creative* is this person? - How creative?              362 non-null    float64\n",
      " 29  In your opinion, how *capable* is this person? - How capable?                361 non-null    float64\n",
      " 30  In your opinion, how *angry* is this person? - How angry?                    363 non-null    int64  \n",
      " 31  In your opinion, how *desirable* is this person? - How desirable?            362 non-null    float64\n",
      " 32  In your opinion, how *embarrassed* is this person? - How embarrassed?        363 non-null    int64  \n",
      " 33  In your opinion, how *joyful* is this person? - How happy?                   362 non-null    float64\n",
      " 34  What is 2 + 4 equal to? - Equal to?                                          362 non-null    float64\n",
      " 35  In your opinion, how *isolated* is this person? - How isolated?              361 non-null    float64\n",
      " 36  In your opinion, how *violent* is this person? - How violent?                362 non-null    float64\n",
      " 37  In your opinion, how *successful* is this person? - How successful?          362 non-null    float64\n",
      " 38  In your opinion, how *unpredictable* is this person? - How unpredictable?.1  361 non-null    float64\n",
      " 39  In your opinion, how *sincere* is this person? - How sincere?.1              361 non-null    float64\n",
      " 40  In your opinion, how *dangerous* is this person? - How dangerous?.1          362 non-null    float64\n",
      " 41  In your opinion, how *trustworthy* is this person? - How trustworthy?.1      361 non-null    float64\n",
      " 42  In your opinion, how *friendly* is this person? - How friendly?.1            358 non-null    float64\n",
      " 43  In your opinion, how *helpless* is this person? - How helpless?.1            359 non-null    float64\n",
      " 44  In your opinion, how *moral* is this person? - How moral?.1                  361 non-null    float64\n",
      " 45  In your opinion, how *understanding* is this person? - How understanding?.1  360 non-null    float64\n",
      " 46  In your opinion, how *intelligent* is this person? - How intelligent?.1      359 non-null    float64\n",
      " 47  In your opinion, how *skilled* is this person? - How skilled?.1              362 non-null    float64\n",
      " 48  In your opinion, how *confident* is this person? - How confident?.1          359 non-null    float64\n",
      " 49  In your opinion, how *creative* is this person? - How creative?.1            360 non-null    float64\n",
      " 50  In your opinion, how *capable* is this person? - How capable?.1              362 non-null    float64\n",
      " 51  In your opinion, how *angry* is this person? - How angry?.1                  359 non-null    float64\n",
      " 52  In your opinion, how *desirable* is this person? - How desirable?.1          360 non-null    float64\n",
      " 53  In your opinion, how *embarrassed* is this person? - How embarrassed?.1      362 non-null    float64\n",
      " 54  In your opinion, how *joyful* is this person? - How joyful?                  358 non-null    float64\n",
      " 55  What is 1 + 3 equal to? - Equal to?                                          361 non-null    float64\n",
      " 56  In your opinion, how *isolated* is this person? - How isolated?.1            361 non-null    float64\n",
      " 57  In your opinion, how *violent* is this person? - How violent?.1              359 non-null    float64\n",
      " 58  In your opinion, how *successful* is this person? - How successful?.1        360 non-null    float64\n",
      " 59  Are you a native English speaker?                                            362 non-null    float64\n",
      " 60  What is your age? - years                                                    362 non-null    float64\n",
      " 61  What is your gender?                                                         362 non-null    float64\n",
      " 62  What is your ethnicity? - Selected Choice                                    362 non-null    float64\n",
      " 63  What is your ethnicity? - Other (please specify): - Text                     1 non-null      object \n",
      " 64  How politically liberal or conservative are you? - SOCIAL ISSUES             362 non-null    float64\n",
      " 65  How politically liberal or conservative are you? - ECONOMIC ISSUES           360 non-null    float64\n",
      " 66  If you have any comments, please enter them here:                            110 non-null    object \n",
      "dtypes: float64(49), int64(10), object(8)\n",
      "memory usage: 192.8+ KB\n"
     ]
    }
   ],
   "source": [
    "raw_df.info()"
   ]
  },
  {
   "cell_type": "code",
   "execution_count": 37,
   "metadata": {},
   "outputs": [],
   "source": [
    "#renaming columns\n",
    "clean_df = raw_df.rename(columns={'In your opinion, how *unpredictable* is this person? - How unpredictable?': \"unpredD\",\n",
    "                         \"In your opinion, how *sincere* is this person? - How sincere?\": \"SincereD\",\n",
    "                        \"In your opinion, how *dangerous* is this person? - How dangerous?\": \"DanD\",\n",
    "                        \"In your opinion, how *trustworthy* is this person? - How trustworthy?\": \"TrustD\",\n",
    "                        \"In your opinion, how *friendly* is this person? - How friendly?\": \"FriendD\",\n",
    "                        \"In your opinion, how *helpless* is this person? - How helpless?\": \"HelpD\",\n",
    "                        \"In your opinion, how *moral* is this person? - How moral?\": \"MoralD\",\n",
    "                        \"In your opinion, how *understanding* is this person? - How understanding?\": \"UnderD\",\n",
    "                        \"In your opinion, how *intelligent* is this person? - How intelligent?\": \"IntellD\",\n",
    "                        \"In your opinion, how *skilled* is this person? - How skilled?\": \"SkillD\",\n",
    "                        \"In your opinion, how *confident* is this person? - How confident?\": \"ConD\",\n",
    "                        \"In your opinion, how *creative* is this person? - How creative?\": \"CreatD\",\n",
    "                        \"In your opinion, how *capable* is this person? - How capable?\": \"CapD\",\n",
    "                        \"In your opinion, how *angry* is this person? - How angry?\": \"AngD\",\n",
    "                        \"In your opinion, how *desirable* is this person? - How desirable?\": \"DesD\",\n",
    "                        \"In your opinion, how *embarrassed* is this person? - How embarrassed?\": \"EmbD\",\n",
    "                        \"In your opinion, how *joyful* is this person? - How happy?\": \"HapD\",\n",
    "                        \"In your opinion, how *isolated* is this person? - How isolated?\": \"IsoD\",\n",
    "                        \"In your opinion, how *violent* is this person? - How violent?\": \"VioD\",\n",
    "                        \"In your opinion, how *successful* is this person? - How successful?\": \"SucD\",\n",
    "                        \"In your opinion, how *unpredictable* is this person? - How unpredictable?.1\": \"UnpreS\",\n",
    "                        \"In your opinion, how *sincere* is this person? - How sincere?.1\": \"SinS\",\n",
    "                        \"In your opinion, how *dangerous* is this person? - How dangerous?.1\": \"DanS\",\n",
    "                        \"In your opinion, how *trustworthy* is this person? - How trustworthy?.1\": \"TrustS\",\n",
    "                        \"In your opinion, how *friendly* is this person? - How friendly?.1\": \"FriendS\",\n",
    "                        \"In your opinion, how *helpless* is this person? - How helpless?.1\": \"HelpS\",\n",
    "                        \"In your opinion, how *moral* is this person? - How moral?.1\": \"MorS\",\n",
    "                        \"In your opinion, how *understanding* is this person? - How understanding?.1\": \"UndS\",\n",
    "                        \"In your opinion, how *intelligent* is this person? - How intelligent?.1\": \"IntelS\",\n",
    "                        \"In your opinion, how *skilled* is this person? - How skilled?.1\": \"SkilS\",\n",
    "                        \"In your opinion, how *confident* is this person? - How confident?.1\": \"ConS\",\n",
    "                        \"In your opinion, how *creative* is this person? - How creative?.1\": \"CreatS\",\n",
    "                        \"In your opinion, how *capable* is this person? - How capable?.1\": \"CapS\",\n",
    "                        \"In your opinion, how *angry* is this person? - How angry?.1\": \"AngS\",\n",
    "                        \"In your opinion, how *desirable* is this person? - How desirable?.1\": \"DesirS\",\n",
    "                        \"In your opinion, how *embarrassed* is this person? - How embarrassed?.1\": \"EmbS\",\n",
    "                        \"In your opinion, how *isolated* is this person? - How isolated?.1\": \"IsoS\",\n",
    "                        \"In your opinion, how *violent* is this person? - How violent?.1\": \"VioS\",\n",
    "                        \"In your opinion, how *successful* is this person? - How successful?.1\": \"SucS\",\n",
    "                        \"In your opinion, how *joyful* is this person? - How joyful?\": \"JoyS\"})"
   ]
  },
  {
   "cell_type": "code",
   "execution_count": 24,
   "metadata": {},
   "outputs": [
    {
     "name": "stdout",
     "output_type": "stream",
     "text": [
      "Start Date\n",
      "End Date\n",
      "Response Type\n",
      "IP Address\n",
      "Progress\n",
      "Duration (in seconds)\n",
      "Finished\n",
      "Recorded Date\n",
      "Recipient Last Name\n",
      "Recipient First Name\n",
      "Recipient Email\n",
      "External Data Reference\n",
      "Location Latitude\n",
      "Location Longitude\n",
      "Distribution Channel\n",
      "User Language\n",
      ".\n",
      "In your opinion, how *unpredictable* is this person? - How unpredictable?\n",
      "In your opinion, how *sincere* is this person? - How sincere?\n",
      "DanD\n",
      "TrustD\n",
      "FriendD\n",
      "HelpD\n",
      "MoralD\n",
      "UnderD\n",
      "IntellD\n",
      "SkillD\n",
      "ConD\n",
      "CreatD\n",
      "CapD\n",
      "AngD\n",
      "DesD\n",
      "EmbD\n",
      "HapD\n",
      "What is 2 + 4 equal to? - Equal to?\n",
      "IsoD\n",
      "VioD\n",
      "SucD\n",
      "UnpreS\n",
      "SinS\n",
      "DanS\n",
      "TrustS\n",
      "FriendS\n",
      "HelpS\n",
      "MorS\n",
      "UndS\n",
      "IntelS\n",
      "SkilS\n",
      "ConS\n",
      "CreatS\n",
      "CapS\n",
      "AngS\n",
      "DesirS\n",
      "EmbS\n",
      "JoyS\n",
      "What is 1 + 3 equal to? - Equal to?\n",
      "IsoS\n",
      "VioS\n",
      "SucS\n",
      "Are you a native English speaker?\n",
      "What is your age? - years\n",
      "What is your gender?\n",
      "What is your ethnicity? - Selected Choice\n",
      "What is your ethnicity? - Other (please specify): - Text\n",
      "How politically liberal or conservative are you? - SOCIAL ISSUES\n",
      "How politically liberal or conservative are you? - ECONOMIC ISSUES\n",
      "If you have any comments, please enter them here:\n"
     ]
    }
   ],
   "source": [
    "for col in clean_df.columns: \n",
    "    print(col) "
   ]
  },
  {
   "cell_type": "code",
   "execution_count": 30,
   "metadata": {},
   "outputs": [
    {
     "data": {
      "text/plain": [
       "Index(['R_1eOxNkDfm21dGw4', 'R_2YQDwlV0FIZIqFR', 'R_1llDVW6gc341xWG',\n",
       "       'R_tDO2hoMYEmdyTPH', 'R_1mkjzSAcuCLnZs7', 'R_W3BRAt6kp3s51Vn',\n",
       "       'R_6hhKmVnOgXgYLwB', 'R_1o8aSPBxKCBP2d0', 'R_XRk16K6TlxcpE8V',\n",
       "       'R_29ubnlDxnIpZKQA',\n",
       "       ...\n",
       "       'R_3rSyaWUmEypg8cB', 'R_3LdOhB4CFAezqiZ', 'R_2zG7zSc4oOF0ukz',\n",
       "       'R_sbzRYQxKQl5c7Nn', 'R_3qWHLRCDg7cc4Dg', 'R_1KuPFFt5vXRQtwN',\n",
       "       'R_10Z6EeGRorccKni', 'R_una2SCOX6uEX9GF', 'R_10Ca71pxQUHAMwa',\n",
       "       'R_skjidK3McqCgwOB'],\n",
       "      dtype='object', name='Response ID', length=363)"
      ]
     },
     "execution_count": 30,
     "metadata": {},
     "output_type": "execute_result"
    }
   ],
   "source": [
    "#checking for non-unique Response IDs\n",
    "clean_df.index.unique()"
   ]
  },
  {
   "cell_type": "code",
   "execution_count": 40,
   "metadata": {},
   "outputs": [
    {
     "data": {
      "text/plain": [
       "0"
      ]
     },
     "execution_count": 40,
     "metadata": {},
     "output_type": "execute_result"
    }
   ],
   "source": [
    "#checking for check-question fails\n",
    "sum(clean_df.iloc[:, 34] != 6)"
   ]
  },
  {
   "cell_type": "code",
   "execution_count": 39,
   "metadata": {},
   "outputs": [],
   "source": [
    "#removing 22 failed check responders\n",
    "clean_df = clean_df[clean_df.iloc[:, 34] == 6]"
   ]
  },
  {
   "cell_type": "code",
   "execution_count": 44,
   "metadata": {},
   "outputs": [
    {
     "data": {
      "text/plain": [
       "0"
      ]
     },
     "execution_count": 44,
     "metadata": {},
     "output_type": "execute_result"
    }
   ],
   "source": [
    "sum(clean_df.iloc[:, 55] != 4)"
   ]
  },
  {
   "cell_type": "code",
   "execution_count": 43,
   "metadata": {},
   "outputs": [],
   "source": [
    "#removing 10 more failed check responders\n",
    "clean_df = clean_df[clean_df.iloc[:, 55] == 4]"
   ]
  },
  {
   "cell_type": "code",
   "execution_count": 46,
   "metadata": {},
   "outputs": [
    {
     "data": {
      "text/plain": [
       "0"
      ]
     },
     "execution_count": 46,
     "metadata": {},
     "output_type": "execute_result"
    }
   ],
   "source": [
    "#checking for responses produced under 60 seconds\n",
    "sum(clean_df.iloc[:, 5] < 60)"
   ]
  },
  {
   "cell_type": "code",
   "execution_count": 47,
   "metadata": {},
   "outputs": [
    {
     "data": {
      "text/plain": [
       "0"
      ]
     },
     "execution_count": 47,
     "metadata": {},
     "output_type": "execute_result"
    }
   ],
   "source": [
    "#checking for any responses listed as not finished\n",
    "sum(clean_df.iloc[:, 6] == 0)"
   ]
  },
  {
   "cell_type": "code",
   "execution_count": 52,
   "metadata": {},
   "outputs": [
    {
     "data": {
      "text/plain": [
       "0"
      ]
     },
     "execution_count": 52,
     "metadata": {},
     "output_type": "execute_result"
    }
   ],
   "source": [
    "#checking for any out-of-bounds age \n",
    "sum(clean_df.iloc[:, 60] < 17)"
   ]
  },
  {
   "cell_type": "code",
   "execution_count": 53,
   "metadata": {},
   "outputs": [
    {
     "data": {
      "text/plain": [
       "0"
      ]
     },
     "execution_count": 53,
     "metadata": {},
     "output_type": "execute_result"
    }
   ],
   "source": [
    "sum(clean_df.iloc[:, 60] > 99)"
   ]
  },
  {
   "cell_type": "code",
   "execution_count": 54,
   "metadata": {},
   "outputs": [
    {
     "name": "stdout",
     "output_type": "stream",
     "text": [
      "Empty DataFrame\n",
      "Columns: [Start Date, End Date, Response Type, IP Address, Progress, Duration (in seconds), Finished, Recorded Date, Recipient Last Name, Recipient First Name, Recipient Email, External Data Reference, Location Latitude, Location Longitude, Distribution Channel, User Language, ., unpredD, SincereD, DanD, TrustD, FriendD, HelpD, MoralD, UnderD, IntellD, SkillD, ConD, CreatD, CapD, AngD, DesD, EmbD, HapD, What is 2 + 4 equal to? - Equal to?, IsoD, VioD, SucD, UnpreS, SinS, DanS, TrustS, FriendS, HelpS, MorS, UndS, IntelS, SkilS, ConS, CreatS, CapS, AngS, DesirS, EmbS, JoyS, What is 1 + 3 equal to? - Equal to?, IsoS, VioS, SucS, Are you a native English speaker?, What is your age? - years, What is your gender?, What is your ethnicity? - Selected Choice, What is your ethnicity? - Other (please specify): - Text, How politically liberal or conservative are you? - SOCIAL ISSUES, How politically liberal or conservative are you? - ECONOMIC ISSUES, If you have any comments, please enter them here:]\n",
      "Index: []\n",
      "\n",
      "[0 rows x 67 columns]\n"
     ]
    }
   ],
   "source": [
    "#checking for any duplicate rows\n",
    "duplicateRows = clean_df[clean_df.duplicated()]\n",
    "print(duplicateRows)"
   ]
  },
  {
   "cell_type": "code",
   "execution_count": 56,
   "metadata": {},
   "outputs": [
    {
     "data": {
      "text/plain": [
       "False"
      ]
     },
     "execution_count": 56,
     "metadata": {},
     "output_type": "execute_result"
    }
   ],
   "source": [
    "#checking for NA values\n",
    "clean_df.iloc[:, -66].isnull().values.any()"
   ]
  },
  {
   "cell_type": "code",
   "execution_count": 58,
   "metadata": {},
   "outputs": [],
   "source": [
    "#writing clean df to directory\n",
    "path = '/Users/emilyburns/Documents/Data_Science/projects/mi_stigma_pca/data'\n",
    "output_file = os.path.join(path, 'survey_one_data_clean.csv')\n",
    "\n",
    "clean_df.to_csv(output_file, index = True)"
   ]
  }
 ],
 "metadata": {
  "kernelspec": {
   "display_name": "Python 3",
   "language": "python",
   "name": "python3"
  },
  "language_info": {
   "codemirror_mode": {
    "name": "ipython",
    "version": 3
   },
   "file_extension": ".py",
   "mimetype": "text/x-python",
   "name": "python",
   "nbconvert_exporter": "python",
   "pygments_lexer": "ipython3",
   "version": "3.7.6"
  }
 },
 "nbformat": 4,
 "nbformat_minor": 4
}
